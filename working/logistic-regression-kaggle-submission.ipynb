{
 "cells": [
  {
   "cell_type": "markdown",
   "metadata": {},
   "source": [
    "# Logistic Regression Kaggle Submission Notebook\n",
    "In this notebook we simply attempt to:\n",
    "* Read in the test data from the input file\n",
    "* Deserialize pre-trained vocabularies and classifiers\n",
    "* Perform feature extraction on the test data using the vocabularies\n",
    "* Make predictions on test data using the classifiers \n",
    "* Write it out into a test submission file"
   ]
  },
  {
   "cell_type": "markdown",
   "metadata": {},
   "source": [
    "## Read in the test data"
   ]
  },
  {
   "cell_type": "code",
   "execution_count": 1,
   "metadata": {},
   "outputs": [],
   "source": [
    "import pandas as pd\n",
    "\n",
    "input_df = pd.read_csv(\"../input/feedback-prize-effectiveness/test.csv\")\n",
    "input_df.head()\n",
    "\n",
    "# Data Validation\n",
    "# Check for any missing values\n",
    "assert input_df.isna().any().any() == False\n",
    "\n",
    "# Check for any empty strings\n",
    "assert input_df.eq(\"\").any().any() == False"
   ]
  },
  {
   "cell_type": "markdown",
   "metadata": {},
   "source": [
    "## Deserialize the pre-trained vocabularies and classifiers"
   ]
  },
  {
   "cell_type": "code",
   "execution_count": 2,
   "metadata": {},
   "outputs": [
    {
     "data": {
      "text/plain": [
       "dict"
      ]
     },
     "execution_count": 2,
     "metadata": {},
     "output_type": "execute_result"
    }
   ],
   "source": [
    "import json # For vocabularies de-serialization\n",
    "\n",
    "vocabs = None\n",
    "with open('./data/vocab_v2.json', 'r', encoding ='utf8') as json_file:\n",
    "    vocabs = json.load(json_file)\n",
    "    \n",
    "type(vocabs)"
   ]
  },
  {
   "cell_type": "code",
   "execution_count": 3,
   "metadata": {},
   "outputs": [
    {
     "data": {
      "text/plain": [
       "dict"
      ]
     },
     "execution_count": 3,
     "metadata": {},
     "output_type": "execute_result"
    }
   ],
   "source": [
    "import joblib # For classifiers de-serialization\n",
    "\n",
    "classifiers = joblib.load('./data/log_regression_classifiers_v2.joblib')\n",
    "type(classifiers)"
   ]
  },
  {
   "cell_type": "markdown",
   "metadata": {},
   "source": [
    "## Feature Extraction"
   ]
  },
  {
   "cell_type": "code",
   "execution_count": 4,
   "metadata": {},
   "outputs": [
    {
     "data": {
      "text/html": [
       "<div>\n",
       "<style scoped>\n",
       "    .dataframe tbody tr th:only-of-type {\n",
       "        vertical-align: middle;\n",
       "    }\n",
       "\n",
       "    .dataframe tbody tr th {\n",
       "        vertical-align: top;\n",
       "    }\n",
       "\n",
       "    .dataframe thead th {\n",
       "        text-align: right;\n",
       "    }\n",
       "</style>\n",
       "<table border=\"1\" class=\"dataframe\">\n",
       "  <thead>\n",
       "    <tr style=\"text-align: right;\">\n",
       "      <th></th>\n",
       "      <th>discourse_id</th>\n",
       "      <th>essay_id</th>\n",
       "      <th>discourse_text</th>\n",
       "      <th>discourse_type</th>\n",
       "      <th>discourse_tokenized</th>\n",
       "    </tr>\n",
       "  </thead>\n",
       "  <tbody>\n",
       "    <tr>\n",
       "      <th>0</th>\n",
       "      <td>a261b6e14276</td>\n",
       "      <td>D72CB1C11673</td>\n",
       "      <td>Making choices in life can be very difficult. ...</td>\n",
       "      <td>Lead</td>\n",
       "      <td>[making, choices, in, life, can, be, very, dif...</td>\n",
       "    </tr>\n",
       "    <tr>\n",
       "      <th>1</th>\n",
       "      <td>5a88900e7dc1</td>\n",
       "      <td>D72CB1C11673</td>\n",
       "      <td>Seeking multiple opinions can help a person ma...</td>\n",
       "      <td>Position</td>\n",
       "      <td>[seeking, multiple, opinions, can, help, a, pe...</td>\n",
       "    </tr>\n",
       "    <tr>\n",
       "      <th>2</th>\n",
       "      <td>9790d835736b</td>\n",
       "      <td>D72CB1C11673</td>\n",
       "      <td>it can decrease stress levels</td>\n",
       "      <td>Claim</td>\n",
       "      <td>[it, can, decrease, stress, levels]</td>\n",
       "    </tr>\n",
       "    <tr>\n",
       "      <th>3</th>\n",
       "      <td>75ce6d68b67b</td>\n",
       "      <td>D72CB1C11673</td>\n",
       "      <td>a great chance to learn something new</td>\n",
       "      <td>Claim</td>\n",
       "      <td>[a, great, chance, to, learn, something, new]</td>\n",
       "    </tr>\n",
       "    <tr>\n",
       "      <th>4</th>\n",
       "      <td>93578d946723</td>\n",
       "      <td>D72CB1C11673</td>\n",
       "      <td>can be very helpful and beneficial.</td>\n",
       "      <td>Claim</td>\n",
       "      <td>[can, be, very, helpful, and, beneficial, .]</td>\n",
       "    </tr>\n",
       "  </tbody>\n",
       "</table>\n",
       "</div>"
      ],
      "text/plain": [
       "   discourse_id      essay_id  \\\n",
       "0  a261b6e14276  D72CB1C11673   \n",
       "1  5a88900e7dc1  D72CB1C11673   \n",
       "2  9790d835736b  D72CB1C11673   \n",
       "3  75ce6d68b67b  D72CB1C11673   \n",
       "4  93578d946723  D72CB1C11673   \n",
       "\n",
       "                                      discourse_text discourse_type  \\\n",
       "0  Making choices in life can be very difficult. ...           Lead   \n",
       "1  Seeking multiple opinions can help a person ma...       Position   \n",
       "2                     it can decrease stress levels           Claim   \n",
       "3             a great chance to learn something new           Claim   \n",
       "4               can be very helpful and beneficial.           Claim   \n",
       "\n",
       "                                 discourse_tokenized  \n",
       "0  [making, choices, in, life, can, be, very, dif...  \n",
       "1  [seeking, multiple, opinions, can, help, a, pe...  \n",
       "2                [it, can, decrease, stress, levels]  \n",
       "3      [a, great, chance, to, learn, something, new]  \n",
       "4       [can, be, very, helpful, and, beneficial, .]  "
      ]
     },
     "execution_count": 4,
     "metadata": {},
     "output_type": "execute_result"
    }
   ],
   "source": [
    "import nltk # Natural Language Tool Kit\n",
    "# nltk.download('punkt') # Needed for nltk.word_tokenize, hopefully already done on Kaggle\n",
    "# nltk.download('stopwords') # Needed for nltk.corpus.stopwords, hopefully already done on Kaggle\n",
    "from nltk.stem import PorterStemmer # Needed for stemming\n",
    "\n",
    "# We start with lowercasing and tokenizing 'disourse_text'\n",
    "input_df['discourse_tokenized'] = input_df['discourse_text'].transform(lambda d: nltk.word_tokenize(d.lower()))\n",
    "input_df.head()"
   ]
  },
  {
   "cell_type": "code",
   "execution_count": 5,
   "metadata": {},
   "outputs": [
    {
     "name": "stdout",
     "output_type": "stream",
     "text": [
      "Punctuation to be removed from the discourse text:\n",
      " {']', '{', '$', '.', ':', '-', ';', '?', ',', '!', '[', '*', '@', '(', '^', '%', '&', '`', '>', '<', '=', '#', '}', '+', '\\\\', '/', ')', '_', '~', '\"', \"'\", '|'}\n"
     ]
    }
   ],
   "source": [
    "# Next we prepare the punctuation to be removed from the discource\n",
    "import string\n",
    "punctuation = set(string.punctuation)\n",
    "\n",
    "print(\"Punctuation to be removed from the discourse text:\\n\", punctuation)"
   ]
  },
  {
   "cell_type": "code",
   "execution_count": 6,
   "metadata": {},
   "outputs": [
    {
     "data": {
      "text/html": [
       "<div>\n",
       "<style scoped>\n",
       "    .dataframe tbody tr th:only-of-type {\n",
       "        vertical-align: middle;\n",
       "    }\n",
       "\n",
       "    .dataframe tbody tr th {\n",
       "        vertical-align: top;\n",
       "    }\n",
       "\n",
       "    .dataframe thead th {\n",
       "        text-align: right;\n",
       "    }\n",
       "</style>\n",
       "<table border=\"1\" class=\"dataframe\">\n",
       "  <thead>\n",
       "    <tr style=\"text-align: right;\">\n",
       "      <th></th>\n",
       "      <th>discourse_id</th>\n",
       "      <th>essay_id</th>\n",
       "      <th>discourse_text</th>\n",
       "      <th>discourse_type</th>\n",
       "      <th>discourse_tokenized</th>\n",
       "      <th>discourse_no_punct</th>\n",
       "    </tr>\n",
       "  </thead>\n",
       "  <tbody>\n",
       "    <tr>\n",
       "      <th>0</th>\n",
       "      <td>a261b6e14276</td>\n",
       "      <td>D72CB1C11673</td>\n",
       "      <td>Making choices in life can be very difficult. ...</td>\n",
       "      <td>Lead</td>\n",
       "      <td>[making, choices, in, life, can, be, very, dif...</td>\n",
       "      <td>[making, choices, in, life, can, be, very, dif...</td>\n",
       "    </tr>\n",
       "    <tr>\n",
       "      <th>1</th>\n",
       "      <td>5a88900e7dc1</td>\n",
       "      <td>D72CB1C11673</td>\n",
       "      <td>Seeking multiple opinions can help a person ma...</td>\n",
       "      <td>Position</td>\n",
       "      <td>[seeking, multiple, opinions, can, help, a, pe...</td>\n",
       "      <td>[seeking, multiple, opinions, can, help, a, pe...</td>\n",
       "    </tr>\n",
       "    <tr>\n",
       "      <th>2</th>\n",
       "      <td>9790d835736b</td>\n",
       "      <td>D72CB1C11673</td>\n",
       "      <td>it can decrease stress levels</td>\n",
       "      <td>Claim</td>\n",
       "      <td>[it, can, decrease, stress, levels]</td>\n",
       "      <td>[it, can, decrease, stress, levels]</td>\n",
       "    </tr>\n",
       "    <tr>\n",
       "      <th>3</th>\n",
       "      <td>75ce6d68b67b</td>\n",
       "      <td>D72CB1C11673</td>\n",
       "      <td>a great chance to learn something new</td>\n",
       "      <td>Claim</td>\n",
       "      <td>[a, great, chance, to, learn, something, new]</td>\n",
       "      <td>[a, great, chance, to, learn, something, new]</td>\n",
       "    </tr>\n",
       "    <tr>\n",
       "      <th>4</th>\n",
       "      <td>93578d946723</td>\n",
       "      <td>D72CB1C11673</td>\n",
       "      <td>can be very helpful and beneficial.</td>\n",
       "      <td>Claim</td>\n",
       "      <td>[can, be, very, helpful, and, beneficial, .]</td>\n",
       "      <td>[can, be, very, helpful, and, beneficial]</td>\n",
       "    </tr>\n",
       "  </tbody>\n",
       "</table>\n",
       "</div>"
      ],
      "text/plain": [
       "   discourse_id      essay_id  \\\n",
       "0  a261b6e14276  D72CB1C11673   \n",
       "1  5a88900e7dc1  D72CB1C11673   \n",
       "2  9790d835736b  D72CB1C11673   \n",
       "3  75ce6d68b67b  D72CB1C11673   \n",
       "4  93578d946723  D72CB1C11673   \n",
       "\n",
       "                                      discourse_text discourse_type  \\\n",
       "0  Making choices in life can be very difficult. ...           Lead   \n",
       "1  Seeking multiple opinions can help a person ma...       Position   \n",
       "2                     it can decrease stress levels           Claim   \n",
       "3             a great chance to learn something new           Claim   \n",
       "4               can be very helpful and beneficial.           Claim   \n",
       "\n",
       "                                 discourse_tokenized  \\\n",
       "0  [making, choices, in, life, can, be, very, dif...   \n",
       "1  [seeking, multiple, opinions, can, help, a, pe...   \n",
       "2                [it, can, decrease, stress, levels]   \n",
       "3      [a, great, chance, to, learn, something, new]   \n",
       "4       [can, be, very, helpful, and, beneficial, .]   \n",
       "\n",
       "                                  discourse_no_punct  \n",
       "0  [making, choices, in, life, can, be, very, dif...  \n",
       "1  [seeking, multiple, opinions, can, help, a, pe...  \n",
       "2                [it, can, decrease, stress, levels]  \n",
       "3      [a, great, chance, to, learn, something, new]  \n",
       "4          [can, be, very, helpful, and, beneficial]  "
      ]
     },
     "execution_count": 6,
     "metadata": {},
     "output_type": "execute_result"
    }
   ],
   "source": [
    "# Now we will remove the punctuation from the sanitized discourse\n",
    "input_df['discourse_no_punct'] = input_df['discourse_tokenized'].transform(lambda d: list(filter(lambda w: w not in punctuation, d)))\n",
    "input_df.head()"
   ]
  },
  {
   "cell_type": "code",
   "execution_count": 7,
   "metadata": {},
   "outputs": [
    {
     "name": "stdout",
     "output_type": "stream",
     "text": [
      "Stop(meaningless) words to be removed from the discourse text:\n",
      " {'every', 'has', 'up', 'drive', 'distance', 'an', 'to', 'get', 'where', 'importing', 'mars', 'is', 'picture', 'work', 'planet', 'just', 'was', 'lot', 'picturing', 'show', 'and', 'ability', 'did', 'something', 'all', 'each', 'able', 'import', 'what', 'system', 'car', 'then', 'most', 'need', 'any', 'they', 'more', 'your', 'how', 'better', 'one', '...', 'the', 'different', 'emotion', 'it', 'find', 'taking', 'having', 'make', 'other', 'take', 'us', 'complete', 'over', 'be', 'create', 'elect', 'home', 'making', 'also', 'see', 'with', 'point', 'vote', 'at', 'that', 'thing', 'like', 'only', 'person', 'were', 'others', 'into', 'could', 'out', 'do', 'now', 'no', 'a', 'people', 'our', 'know', 'cause', 'someone', 'scientists', 'want', 'by', 'driving', 'can', 'technology', 'many', 'way', 'than', 'of', 'give', 'on', 'needing', 'why', 'same', 'day', 'state', 'class', 'grade', 'because', 'sport', 'important', 'in', \"n't\", '``', 'for', 'who', 'my', 'difference', 'technological', 'when', 'getting', 'or', 'use', 'around', 'are', 'so', 'time', 'even', \"''\", \"'s\", 'voter', 'emotions', 'not', 'scientist', 'am', 'alien', 'from', 'after', 'school', 'summer', 'have', 'doing', 'face', 'there', 'this', \"'m\", 'go', 'them', 'attend', 'as', 'reason', 'driverless', 'emotional'}\n"
     ]
    }
   ],
   "source": [
    "# We will not do spell-checking as it's too computationaly heavy\n",
    "\n",
    "# Then we prepare the list of the stop words (meaningless words) to remove from the discourse\n",
    "stopwords_english = set() # set(nltk.corpus.stopwords.words('english'))\n",
    "stopwords_english = stopwords_english.union({'scientist', 'do', 'as', 'emotional', '``', 'at', 'and', 'than', 'this', 'get', 'into', 'face', 'us', 'day', 'having', 'others', 'your', \"''\", 'were', 'any', 'be', 'go', 'could', 'state', 'cause', 'know', 'out', 'every', 'that', 'there', 'have', 'voter', 'just', 'most', 'many', 'give', 'has', 'with', 'then', 'time', 'reason', 'also', 'why', 'an', 'want', 'mars', 'or', 'sport', 'a', 'elect', 'alien', 'people', 'after', 'system', 'is', 'summer', 'it', 'driverless', 'planet', 'when', 'all', 'not', 'by', 'they', 'how', 'on', 'our', 'what', 'doing', 'to', 'person', 'where', 'find', 'thing', 'getting', 'for', 'did', 'more', 'can', 'only', 'emotions', 'see', 'no', 'like', \"'s\", 'use', 'who', 'make', 'technological', 'lot', 'from', 'of', 'around', 'class', 'attend', 'better', 'same', 'importing', 'ability', \"n't\", 'vote', 'drive', 'now', 'home', 'someone', 'other', 'my', 'point', \"'m\", '...', 'up', 'complete', 'different', 'was', 'the', 'over', 'taking', 'grade', 'able', 'so', 'work', 'need', 'are', 'way', 'them', 'even', 'making', 'school', 'show', 'import', 'something', 'difference', 'am', 'because', 'scientists', 'one', 'technology', 'in', 'emotion', 'car', 'create', 'distance', 'take', 'driving', 'picture', 'picturing', 'needing', 'important', 'each'}) # Some of our own additions\n",
    "\n",
    "print(\"Stop(meaningless) words to be removed from the discourse text:\\n\", stopwords_english)"
   ]
  },
  {
   "cell_type": "code",
   "execution_count": 8,
   "metadata": {},
   "outputs": [
    {
     "data": {
      "text/html": [
       "<div>\n",
       "<style scoped>\n",
       "    .dataframe tbody tr th:only-of-type {\n",
       "        vertical-align: middle;\n",
       "    }\n",
       "\n",
       "    .dataframe tbody tr th {\n",
       "        vertical-align: top;\n",
       "    }\n",
       "\n",
       "    .dataframe thead th {\n",
       "        text-align: right;\n",
       "    }\n",
       "</style>\n",
       "<table border=\"1\" class=\"dataframe\">\n",
       "  <thead>\n",
       "    <tr style=\"text-align: right;\">\n",
       "      <th></th>\n",
       "      <th>discourse_id</th>\n",
       "      <th>essay_id</th>\n",
       "      <th>discourse_text</th>\n",
       "      <th>discourse_type</th>\n",
       "      <th>discourse_tokenized</th>\n",
       "      <th>discourse_no_punct</th>\n",
       "      <th>discourse_no_stopwords</th>\n",
       "    </tr>\n",
       "  </thead>\n",
       "  <tbody>\n",
       "    <tr>\n",
       "      <th>0</th>\n",
       "      <td>a261b6e14276</td>\n",
       "      <td>D72CB1C11673</td>\n",
       "      <td>Making choices in life can be very difficult. ...</td>\n",
       "      <td>Lead</td>\n",
       "      <td>[making, choices, in, life, can, be, very, dif...</td>\n",
       "      <td>[making, choices, in, life, can, be, very, dif...</td>\n",
       "      <td>[choices, life, very, difficult, often, ask, a...</td>\n",
       "    </tr>\n",
       "    <tr>\n",
       "      <th>1</th>\n",
       "      <td>5a88900e7dc1</td>\n",
       "      <td>D72CB1C11673</td>\n",
       "      <td>Seeking multiple opinions can help a person ma...</td>\n",
       "      <td>Position</td>\n",
       "      <td>[seeking, multiple, opinions, can, help, a, pe...</td>\n",
       "      <td>[seeking, multiple, opinions, can, help, a, pe...</td>\n",
       "      <td>[seeking, multiple, opinions, help, choice]</td>\n",
       "    </tr>\n",
       "    <tr>\n",
       "      <th>2</th>\n",
       "      <td>9790d835736b</td>\n",
       "      <td>D72CB1C11673</td>\n",
       "      <td>it can decrease stress levels</td>\n",
       "      <td>Claim</td>\n",
       "      <td>[it, can, decrease, stress, levels]</td>\n",
       "      <td>[it, can, decrease, stress, levels]</td>\n",
       "      <td>[decrease, stress, levels]</td>\n",
       "    </tr>\n",
       "    <tr>\n",
       "      <th>3</th>\n",
       "      <td>75ce6d68b67b</td>\n",
       "      <td>D72CB1C11673</td>\n",
       "      <td>a great chance to learn something new</td>\n",
       "      <td>Claim</td>\n",
       "      <td>[a, great, chance, to, learn, something, new]</td>\n",
       "      <td>[a, great, chance, to, learn, something, new]</td>\n",
       "      <td>[great, chance, learn, new]</td>\n",
       "    </tr>\n",
       "    <tr>\n",
       "      <th>4</th>\n",
       "      <td>93578d946723</td>\n",
       "      <td>D72CB1C11673</td>\n",
       "      <td>can be very helpful and beneficial.</td>\n",
       "      <td>Claim</td>\n",
       "      <td>[can, be, very, helpful, and, beneficial, .]</td>\n",
       "      <td>[can, be, very, helpful, and, beneficial]</td>\n",
       "      <td>[very, helpful, beneficial]</td>\n",
       "    </tr>\n",
       "  </tbody>\n",
       "</table>\n",
       "</div>"
      ],
      "text/plain": [
       "   discourse_id      essay_id  \\\n",
       "0  a261b6e14276  D72CB1C11673   \n",
       "1  5a88900e7dc1  D72CB1C11673   \n",
       "2  9790d835736b  D72CB1C11673   \n",
       "3  75ce6d68b67b  D72CB1C11673   \n",
       "4  93578d946723  D72CB1C11673   \n",
       "\n",
       "                                      discourse_text discourse_type  \\\n",
       "0  Making choices in life can be very difficult. ...           Lead   \n",
       "1  Seeking multiple opinions can help a person ma...       Position   \n",
       "2                     it can decrease stress levels           Claim   \n",
       "3             a great chance to learn something new           Claim   \n",
       "4               can be very helpful and beneficial.           Claim   \n",
       "\n",
       "                                 discourse_tokenized  \\\n",
       "0  [making, choices, in, life, can, be, very, dif...   \n",
       "1  [seeking, multiple, opinions, can, help, a, pe...   \n",
       "2                [it, can, decrease, stress, levels]   \n",
       "3      [a, great, chance, to, learn, something, new]   \n",
       "4       [can, be, very, helpful, and, beneficial, .]   \n",
       "\n",
       "                                  discourse_no_punct  \\\n",
       "0  [making, choices, in, life, can, be, very, dif...   \n",
       "1  [seeking, multiple, opinions, can, help, a, pe...   \n",
       "2                [it, can, decrease, stress, levels]   \n",
       "3      [a, great, chance, to, learn, something, new]   \n",
       "4          [can, be, very, helpful, and, beneficial]   \n",
       "\n",
       "                              discourse_no_stopwords  \n",
       "0  [choices, life, very, difficult, often, ask, a...  \n",
       "1        [seeking, multiple, opinions, help, choice]  \n",
       "2                         [decrease, stress, levels]  \n",
       "3                        [great, chance, learn, new]  \n",
       "4                        [very, helpful, beneficial]  "
      ]
     },
     "execution_count": 8,
     "metadata": {},
     "output_type": "execute_result"
    }
   ],
   "source": [
    "# Now we will remove the stop-words from the sanitized discourse\n",
    "input_df['discourse_no_stopwords'] = input_df['discourse_no_punct'].transform(lambda d: list(filter(lambda w: w not in stopwords_english, d)))\n",
    "input_df.head()"
   ]
  },
  {
   "cell_type": "code",
   "execution_count": 9,
   "metadata": {},
   "outputs": [
    {
     "data": {
      "text/html": [
       "<div>\n",
       "<style scoped>\n",
       "    .dataframe tbody tr th:only-of-type {\n",
       "        vertical-align: middle;\n",
       "    }\n",
       "\n",
       "    .dataframe tbody tr th {\n",
       "        vertical-align: top;\n",
       "    }\n",
       "\n",
       "    .dataframe thead th {\n",
       "        text-align: right;\n",
       "    }\n",
       "</style>\n",
       "<table border=\"1\" class=\"dataframe\">\n",
       "  <thead>\n",
       "    <tr style=\"text-align: right;\">\n",
       "      <th></th>\n",
       "      <th>discourse_id</th>\n",
       "      <th>essay_id</th>\n",
       "      <th>discourse_text</th>\n",
       "      <th>discourse_type</th>\n",
       "      <th>discourse_tokenized</th>\n",
       "      <th>discourse_no_punct</th>\n",
       "      <th>discourse_no_stopwords</th>\n",
       "      <th>discourse_stemmed</th>\n",
       "    </tr>\n",
       "  </thead>\n",
       "  <tbody>\n",
       "    <tr>\n",
       "      <th>0</th>\n",
       "      <td>a261b6e14276</td>\n",
       "      <td>D72CB1C11673</td>\n",
       "      <td>Making choices in life can be very difficult. ...</td>\n",
       "      <td>Lead</td>\n",
       "      <td>[making, choices, in, life, can, be, very, dif...</td>\n",
       "      <td>[making, choices, in, life, can, be, very, dif...</td>\n",
       "      <td>[choices, life, very, difficult, often, ask, a...</td>\n",
       "      <td>[choic, life, veri, difficult, often, ask, adv...</td>\n",
       "    </tr>\n",
       "    <tr>\n",
       "      <th>1</th>\n",
       "      <td>5a88900e7dc1</td>\n",
       "      <td>D72CB1C11673</td>\n",
       "      <td>Seeking multiple opinions can help a person ma...</td>\n",
       "      <td>Position</td>\n",
       "      <td>[seeking, multiple, opinions, can, help, a, pe...</td>\n",
       "      <td>[seeking, multiple, opinions, can, help, a, pe...</td>\n",
       "      <td>[seeking, multiple, opinions, help, choice]</td>\n",
       "      <td>[seek, multipl, opinion, help, choic]</td>\n",
       "    </tr>\n",
       "    <tr>\n",
       "      <th>2</th>\n",
       "      <td>9790d835736b</td>\n",
       "      <td>D72CB1C11673</td>\n",
       "      <td>it can decrease stress levels</td>\n",
       "      <td>Claim</td>\n",
       "      <td>[it, can, decrease, stress, levels]</td>\n",
       "      <td>[it, can, decrease, stress, levels]</td>\n",
       "      <td>[decrease, stress, levels]</td>\n",
       "      <td>[decreas, stress, level]</td>\n",
       "    </tr>\n",
       "    <tr>\n",
       "      <th>3</th>\n",
       "      <td>75ce6d68b67b</td>\n",
       "      <td>D72CB1C11673</td>\n",
       "      <td>a great chance to learn something new</td>\n",
       "      <td>Claim</td>\n",
       "      <td>[a, great, chance, to, learn, something, new]</td>\n",
       "      <td>[a, great, chance, to, learn, something, new]</td>\n",
       "      <td>[great, chance, learn, new]</td>\n",
       "      <td>[great, chanc, learn, new]</td>\n",
       "    </tr>\n",
       "    <tr>\n",
       "      <th>4</th>\n",
       "      <td>93578d946723</td>\n",
       "      <td>D72CB1C11673</td>\n",
       "      <td>can be very helpful and beneficial.</td>\n",
       "      <td>Claim</td>\n",
       "      <td>[can, be, very, helpful, and, beneficial, .]</td>\n",
       "      <td>[can, be, very, helpful, and, beneficial]</td>\n",
       "      <td>[very, helpful, beneficial]</td>\n",
       "      <td>[veri, help, benefici]</td>\n",
       "    </tr>\n",
       "  </tbody>\n",
       "</table>\n",
       "</div>"
      ],
      "text/plain": [
       "   discourse_id      essay_id  \\\n",
       "0  a261b6e14276  D72CB1C11673   \n",
       "1  5a88900e7dc1  D72CB1C11673   \n",
       "2  9790d835736b  D72CB1C11673   \n",
       "3  75ce6d68b67b  D72CB1C11673   \n",
       "4  93578d946723  D72CB1C11673   \n",
       "\n",
       "                                      discourse_text discourse_type  \\\n",
       "0  Making choices in life can be very difficult. ...           Lead   \n",
       "1  Seeking multiple opinions can help a person ma...       Position   \n",
       "2                     it can decrease stress levels           Claim   \n",
       "3             a great chance to learn something new           Claim   \n",
       "4               can be very helpful and beneficial.           Claim   \n",
       "\n",
       "                                 discourse_tokenized  \\\n",
       "0  [making, choices, in, life, can, be, very, dif...   \n",
       "1  [seeking, multiple, opinions, can, help, a, pe...   \n",
       "2                [it, can, decrease, stress, levels]   \n",
       "3      [a, great, chance, to, learn, something, new]   \n",
       "4       [can, be, very, helpful, and, beneficial, .]   \n",
       "\n",
       "                                  discourse_no_punct  \\\n",
       "0  [making, choices, in, life, can, be, very, dif...   \n",
       "1  [seeking, multiple, opinions, can, help, a, pe...   \n",
       "2                [it, can, decrease, stress, levels]   \n",
       "3      [a, great, chance, to, learn, something, new]   \n",
       "4          [can, be, very, helpful, and, beneficial]   \n",
       "\n",
       "                              discourse_no_stopwords  \\\n",
       "0  [choices, life, very, difficult, often, ask, a...   \n",
       "1        [seeking, multiple, opinions, help, choice]   \n",
       "2                         [decrease, stress, levels]   \n",
       "3                        [great, chance, learn, new]   \n",
       "4                        [very, helpful, beneficial]   \n",
       "\n",
       "                                   discourse_stemmed  \n",
       "0  [choic, life, veri, difficult, often, ask, adv...  \n",
       "1              [seek, multipl, opinion, help, choic]  \n",
       "2                           [decreas, stress, level]  \n",
       "3                         [great, chanc, learn, new]  \n",
       "4                             [veri, help, benefici]  "
      ]
     },
     "execution_count": 9,
     "metadata": {},
     "output_type": "execute_result"
    }
   ],
   "source": [
    "# Next we will perform the stemming of words in the sanitized discourse\n",
    "stemmer = PorterStemmer()\n",
    "input_df['discourse_stemmed'] = input_df['discourse_no_stopwords'].transform(lambda d: list(map(lambda w: stemmer.stem(w), d)))\n",
    "input_df.head()"
   ]
  },
  {
   "cell_type": "code",
   "execution_count": 10,
   "metadata": {},
   "outputs": [
    {
     "data": {
      "text/html": [
       "<div>\n",
       "<style scoped>\n",
       "    .dataframe tbody tr th:only-of-type {\n",
       "        vertical-align: middle;\n",
       "    }\n",
       "\n",
       "    .dataframe tbody tr th {\n",
       "        vertical-align: top;\n",
       "    }\n",
       "\n",
       "    .dataframe thead th {\n",
       "        text-align: right;\n",
       "    }\n",
       "</style>\n",
       "<table border=\"1\" class=\"dataframe\">\n",
       "  <thead>\n",
       "    <tr style=\"text-align: right;\">\n",
       "      <th></th>\n",
       "      <th>discourse_id</th>\n",
       "      <th>discourse_type</th>\n",
       "      <th>discourse_stemmed</th>\n",
       "    </tr>\n",
       "  </thead>\n",
       "  <tbody>\n",
       "    <tr>\n",
       "      <th>0</th>\n",
       "      <td>a261b6e14276</td>\n",
       "      <td>Lead</td>\n",
       "      <td>[choic, life, veri, difficult, often, ask, adv...</td>\n",
       "    </tr>\n",
       "    <tr>\n",
       "      <th>1</th>\n",
       "      <td>5a88900e7dc1</td>\n",
       "      <td>Position</td>\n",
       "      <td>[seek, multipl, opinion, help, choic]</td>\n",
       "    </tr>\n",
       "    <tr>\n",
       "      <th>2</th>\n",
       "      <td>9790d835736b</td>\n",
       "      <td>Claim</td>\n",
       "      <td>[decreas, stress, level]</td>\n",
       "    </tr>\n",
       "    <tr>\n",
       "      <th>3</th>\n",
       "      <td>75ce6d68b67b</td>\n",
       "      <td>Claim</td>\n",
       "      <td>[great, chanc, learn, new]</td>\n",
       "    </tr>\n",
       "    <tr>\n",
       "      <th>4</th>\n",
       "      <td>93578d946723</td>\n",
       "      <td>Claim</td>\n",
       "      <td>[veri, help, benefici]</td>\n",
       "    </tr>\n",
       "  </tbody>\n",
       "</table>\n",
       "</div>"
      ],
      "text/plain": [
       "   discourse_id discourse_type  \\\n",
       "0  a261b6e14276           Lead   \n",
       "1  5a88900e7dc1       Position   \n",
       "2  9790d835736b          Claim   \n",
       "3  75ce6d68b67b          Claim   \n",
       "4  93578d946723          Claim   \n",
       "\n",
       "                                   discourse_stemmed  \n",
       "0  [choic, life, veri, difficult, often, ask, adv...  \n",
       "1              [seek, multipl, opinion, help, choic]  \n",
       "2                           [decreas, stress, level]  \n",
       "3                         [great, chanc, learn, new]  \n",
       "4                             [veri, help, benefici]  "
      ]
     },
     "execution_count": 10,
     "metadata": {},
     "output_type": "execute_result"
    }
   ],
   "source": [
    "# We will only retain the \"discourse_id\", \"discourse_type\", \"discourse_stemmed\" columns for the prediction making\n",
    "input_df = input_df[[\"discourse_id\", \"discourse_type\", \"discourse_stemmed\"]]\n",
    "input_df.head()"
   ]
  },
  {
   "cell_type": "code",
   "execution_count": 11,
   "metadata": {},
   "outputs": [
    {
     "data": {
      "text/plain": [
       "[['Lead', 1.0, 2740, 2844, 671],\n",
       " ['Position', 1.0, 478, 322, 53],\n",
       " ['Claim', 1.0, 111, 111, 5],\n",
       " ['Claim', 1.0, 626, 642, 114],\n",
       " ['Claim', 1.0, 1003, 553, 175]]"
      ]
     },
     "execution_count": 11,
     "metadata": {},
     "output_type": "execute_result"
    }
   ],
   "source": [
    "# Feature extraction, we will use effectiveness unbalanced and type split data collected vocabulary\n",
    "X_unbalanced_type_split_feat = []\n",
    "\n",
    "for row in input_df.itertuples():\n",
    "    dt, discourse_stemmed = row[2], row[3]\n",
    "    X_unbalanced_type_split_feat.append([dt, 1.0, \\\n",
    "                sum([(vocabs[\"unbalanced_type_split\"][dt][\"Adequate\"][w] if w in vocabs[\"unbalanced_type_split\"][dt][\"Adequate\"] else 0) for w in discourse_stemmed]), \\\n",
    "                sum([(vocabs[\"unbalanced_type_split\"][dt][\"Effective\"][w] if w in vocabs[\"unbalanced_type_split\"][dt][\"Effective\"] else 0) for w in discourse_stemmed]), \\\n",
    "                sum([(vocabs[\"unbalanced_type_split\"][dt][\"Ineffective\"][w] if w in vocabs[\"unbalanced_type_split\"][dt][\"Ineffective\"] else 0) for w in discourse_stemmed])])\n",
    "\n",
    "X_unbalanced_type_split_feat[:5]"
   ]
  },
  {
   "cell_type": "markdown",
   "metadata": {},
   "source": [
    "## Prediction making"
   ]
  },
  {
   "cell_type": "code",
   "execution_count": 12,
   "metadata": {},
   "outputs": [
    {
     "data": {
      "text/plain": [
       "[array([[0.47895261, 0.42113205, 0.09991534]]),\n",
       " array([[0.66077578, 0.25418015, 0.08504407]]),\n",
       " array([[0.6258065 , 0.2156754 , 0.15851809]]),\n",
       " array([[0.58763463, 0.27915415, 0.13321121]]),\n",
       " array([[0.6388164 , 0.22898584, 0.13219776]])]"
      ]
     },
     "execution_count": 12,
     "metadata": {},
     "output_type": "execute_result"
    }
   ],
   "source": [
    "y_unbalanced_type_split_preds = []\n",
    "\n",
    "for X in X_unbalanced_type_split_feat:\n",
    "    dt, x = X[0], X[1:]\n",
    "    \n",
    "    y_unbalanced_type_split_preds.append(classifiers[\"unbalanced_type_split\"][dt].predict_proba([x]))\n",
    "\n",
    "y_unbalanced_type_split_preds[:5]"
   ]
  },
  {
   "cell_type": "code",
   "execution_count": 13,
   "metadata": {},
   "outputs": [
    {
     "name": "stderr",
     "output_type": "stream",
     "text": [
      "C:\\Users\\Basiu\\AppData\\Local\\Temp\\ipykernel_3076\\1445921270.py:13: SettingWithCopyWarning: \n",
      "A value is trying to be set on a copy of a slice from a DataFrame.\n",
      "Try using .loc[row_indexer,col_indexer] = value instead\n",
      "\n",
      "See the caveats in the documentation: https://pandas.pydata.org/pandas-docs/stable/user_guide/indexing.html#returning-a-view-versus-a-copy\n",
      "  output_df[[\"Adequate\", \"Effective\", \"Ineffective\"]] = pd.DataFrame(np.array(y_output), columns=[\"Adequate\", \"Effective\", \"Ineffective\"])\n"
     ]
    },
    {
     "data": {
      "text/html": [
       "<div>\n",
       "<style scoped>\n",
       "    .dataframe tbody tr th:only-of-type {\n",
       "        vertical-align: middle;\n",
       "    }\n",
       "\n",
       "    .dataframe tbody tr th {\n",
       "        vertical-align: top;\n",
       "    }\n",
       "\n",
       "    .dataframe thead th {\n",
       "        text-align: right;\n",
       "    }\n",
       "</style>\n",
       "<table border=\"1\" class=\"dataframe\">\n",
       "  <thead>\n",
       "    <tr style=\"text-align: right;\">\n",
       "      <th></th>\n",
       "      <th>discourse_id</th>\n",
       "      <th>Adequate</th>\n",
       "      <th>Effective</th>\n",
       "      <th>Ineffective</th>\n",
       "    </tr>\n",
       "  </thead>\n",
       "  <tbody>\n",
       "    <tr>\n",
       "      <th>0</th>\n",
       "      <td>a261b6e14276</td>\n",
       "      <td>0.478953</td>\n",
       "      <td>0.421132</td>\n",
       "      <td>0.099915</td>\n",
       "    </tr>\n",
       "    <tr>\n",
       "      <th>1</th>\n",
       "      <td>5a88900e7dc1</td>\n",
       "      <td>0.660776</td>\n",
       "      <td>0.254180</td>\n",
       "      <td>0.085044</td>\n",
       "    </tr>\n",
       "    <tr>\n",
       "      <th>2</th>\n",
       "      <td>9790d835736b</td>\n",
       "      <td>0.625807</td>\n",
       "      <td>0.215675</td>\n",
       "      <td>0.158518</td>\n",
       "    </tr>\n",
       "    <tr>\n",
       "      <th>3</th>\n",
       "      <td>75ce6d68b67b</td>\n",
       "      <td>0.587635</td>\n",
       "      <td>0.279154</td>\n",
       "      <td>0.133211</td>\n",
       "    </tr>\n",
       "    <tr>\n",
       "      <th>4</th>\n",
       "      <td>93578d946723</td>\n",
       "      <td>0.638816</td>\n",
       "      <td>0.228986</td>\n",
       "      <td>0.132198</td>\n",
       "    </tr>\n",
       "  </tbody>\n",
       "</table>\n",
       "</div>"
      ],
      "text/plain": [
       "   discourse_id  Adequate  Effective  Ineffective\n",
       "0  a261b6e14276  0.478953   0.421132     0.099915\n",
       "1  5a88900e7dc1  0.660776   0.254180     0.085044\n",
       "2  9790d835736b  0.625807   0.215675     0.158518\n",
       "3  75ce6d68b67b  0.587635   0.279154     0.133211\n",
       "4  93578d946723  0.638816   0.228986     0.132198"
      ]
     },
     "execution_count": 13,
     "metadata": {},
     "output_type": "execute_result"
    }
   ],
   "source": [
    "import numpy as np\n",
    "\n",
    "output_df = input_df[[\"discourse_id\"]]\n",
    "\n",
    "y_output = []\n",
    "for i in range(len(X_unbalanced_type_split_feat)):\n",
    "    dt = X_unbalanced_type_split_feat[i][0]\n",
    "    y_output.append([ \\\n",
    "        y_unbalanced_type_split_preds[i][0][list(classifiers[\"unbalanced_type_split\"][dt].classes_).index(\"Adequate\")], \\\n",
    "        y_unbalanced_type_split_preds[i][0][list(classifiers[\"unbalanced_type_split\"][dt].classes_).index(\"Effective\")], \\\n",
    "        y_unbalanced_type_split_preds[i][0][list(classifiers[\"unbalanced_type_split\"][dt].classes_).index(\"Ineffective\")]])\n",
    "\n",
    "output_df[[\"Adequate\", \"Effective\", \"Ineffective\"]] = pd.DataFrame(np.array(y_output), columns=[\"Adequate\", \"Effective\", \"Ineffective\"])\n",
    "output_df.head()"
   ]
  },
  {
   "cell_type": "markdown",
   "metadata": {},
   "source": [
    "## Output"
   ]
  },
  {
   "cell_type": "code",
   "execution_count": 15,
   "metadata": {
    "tags": []
   },
   "outputs": [],
   "source": [
    "# Make sure output directory exists\n",
    "import os\n",
    "path = './data/output/'\n",
    "os.makedirs(path, exist_ok=True)\n",
    "\n",
    "# Write out the output_df into a sample output file.\n",
    "output_df.to_csv(\"./data/output/submission.csv\", index=False)"
   ]
  },
  {
   "cell_type": "code",
   "execution_count": null,
   "metadata": {},
   "outputs": [],
   "source": []
  }
 ],
 "metadata": {
  "kernelspec": {
   "display_name": "Python 3 (ipykernel)",
   "language": "python",
   "name": "python3"
  },
  "language_info": {
   "codemirror_mode": {
    "name": "ipython",
    "version": 3
   },
   "file_extension": ".py",
   "mimetype": "text/x-python",
   "name": "python",
   "nbconvert_exporter": "python",
   "pygments_lexer": "ipython3",
   "version": "3.10.5"
  }
 },
 "nbformat": 4,
 "nbformat_minor": 4
}
